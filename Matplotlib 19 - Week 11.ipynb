{
 "cells": [
  {
   "attachments": {
    "download%20%281%29.png": {
     "image/png": "[encoded data removed]"
    }
   },
   "cell_type": "markdown",
   "metadata": {},
   "source": [
    "![download%20%281%29.png](attachment:download%20%281%29.png)\n",
    "\n",
    "# BIC02 - Visualisasi Data\n",
    "\n",
    "Nama: Angelique Keyko Haryono\n",
    "\n",
    "NRP: 2073016"
   ]
  },
  {
   "cell_type": "markdown",
   "metadata": {},
   "source": [
    "### Week 11 - Animasi Pada Matplotlib\n",
    "\n",
    "1. Cara Import Module dan Mengecek Version\n",
    "2. Review Figure"
   ]
  },
  {
   "cell_type": "markdown",
   "metadata": {},
   "source": [
    "#### Cara Import Module dan Mengecek Version\n",
    "\n",
    "Sebelum mengimport module, kita bisa menjalankan magic comment. `%matplotlib inline` dikenal sebagai magic comment pada Jupyter Notebook dan Jupyter Lab. Kegunaannya adalah untuk memastikan setiap output dari matplotlib akan ditampilkan dalam halaman notebook yang sama. Magic comment ini harus kita eksekusi, terutama jika kita menggunakan Jupyter Notebook versi lama. Sedangkan untuk Jupyter Notebook versi lebih baru, tidak diperlukan karena secara default jika kita melakukan plotting dengan matplotlib, maka hasilnya akan secara otomatis ditampilkan pada notebook."
   ]
  },
  {
   "cell_type": "code",
   "execution_count": 2,
   "metadata": {},
   "outputs": [],
   "source": [
    "%matplotlib inline"
   ]
  },
  {
   "cell_type": "code",
   "execution_count": 3,
   "metadata": {},
   "outputs": [
    {
     "name": "stdout",
     "output_type": "stream",
     "text": [
      "3.3.2\n",
      "1.19.2\n"
     ]
    }
   ],
   "source": [
    "#Ini merupakan cara untuk mengimport module.\n",
    "import matplotlib\n",
    "import matplotlib.pyplot as plt\n",
    "from matplotlib.animation import FuncAnimation\n",
    "from IPython import display\n",
    "import numpy as np\n",
    "\n",
    "#Ini merupakan cara mengecek version module.\n",
    "print(matplotlib.__version__)\n",
    "print(np.__version__)"
   ]
  },
  {
   "cell_type": "markdown",
   "metadata": {},
   "source": [
    "#### Review Figure\n",
    "\n",
    "Untuk membentuk object figure, kita bisa memanggil fungsi `plt.figure()`. Untuk menampilkan sesuatu, kita memerlukan area gambar atau axes. "
   ]
  },
  {
   "cell_type": "code",
   "execution_count": 4,
   "metadata": {},
   "outputs": [
    {
     "name": "stdout",
     "output_type": "stream",
     "text": [
      "[<matplotlib.lines.Line2D object at 0x0000005EA3833DF0>]\n"
     ]
    },
    {
     "data": {
      "image/png": "[encoded data removed]",
      "text/plain": [
       "<Figure size 432x288 with 1 Axes>"
      ]
     },
     "metadata": {
      "needs_background": "light"
     },
     "output_type": "display_data"
    }
   ],
   "source": [
    "# membentuk object figure.\n",
    "fig = plt.figure()\n",
    "\n",
    "# membentuk object axes.\n",
    "plt.xlim(0, 4)  # batas atas dan bawah sumbu x.\n",
    "plt.ylim(-2, 2) # batas atas dan bawah sumbu y.\n",
    "\n",
    "# melakukan plotting.\n",
    "print(plt.plot([])) # data kosong."
   ]
  }
 ],
 "metadata": {
  "kernelspec": {
   "display_name": "Python 3",
   "language": "python",
   "name": "python3"
  }
 },
 "nbformat": 4,
 "nbformat_minor": 4
}
