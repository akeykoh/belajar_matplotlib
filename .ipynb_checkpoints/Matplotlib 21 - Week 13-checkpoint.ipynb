{
 "cells": [
  {
   "attachments": {
    "download%20%281%29.png": {
     "image/png": "[encoded data removed]"
    }
   },
   "cell_type": "markdown",
   "metadata": {},
   "source": [
    "![download%20%281%29.png](attachment:download%20%281%29.png)\n",
    "\n",
    "# BIC02 - Visualisasi Data\n",
    "\n",
    "Nama: Angelique Keyko Haryono\n",
    "\n",
    "NRP: 2073016"
   ]
  },
  {
   "cell_type": "markdown",
   "metadata": {},
   "source": [
    "### Week 12 - Visualisasi Data yang Tersimpan Pada Pandas Data Frame (Bagian 2)\n",
    "\n",
    "1. Cara Import Module dan Mengecek Version\n",
    "2. Line Plot\n",
    "3. Bar Plot"
   ]
  },
  {
   "cell_type": "markdown",
   "metadata": {},
   "source": [
    "#### Cara Import Module dan Mengecek Version\n",
    "\n",
    "Sebelum mengimport module, kita bisa menjalankan magic comment. `%matplotlib inline` dikenal sebagai magic comment pada Jupyter Notebook dan Jupyter Lab. Kegunaannya adalah untuk memastikan setiap output dari matplotlib akan ditampilkan dalam halaman notebook yang sama. Magic comment ini harus kita eksekusi, terutama jika kita menggunakan Jupyter Notebook versi lama. Sedangkan untuk Jupyter Notebook versi lebih baru, tidak diperlukan karena secara default jika kita melakukan plotting dengan matplotlib, maka hasilnya akan secara otomatis ditampilkan pada notebook."
   ]
  },
  {
   "cell_type": "code",
   "execution_count": 1,
   "metadata": {},
   "outputs": [
    {
     "name": "stdout",
     "output_type": "stream",
     "text": [
      "3.3.2\n",
      "1.1.3\n"
     ]
    }
   ],
   "source": [
    "# Ini merupakan cara untuk mengimport module.\n",
    "import matplotlib\n",
    "import matplotlib.pyplot as plt\n",
    "import pandas as pd\n",
    "\n",
    "# Ini merupakan cara mengecek version module.\n",
    "print(matplotlib.__version__)\n",
    "print(pd.__version__)"
   ]
  },
  {
   "cell_type": "markdown",
   "metadata": {},
   "source": [
    "#### Line Plot\n",
    "\n",
    "Kita bisa melakukan plotting data dengan jenis Line Plot dengan memanfaatkan method `df.plot()` dan menyertakan beberapa parameter. Parameter x diisi dengan nama kolom yang mau dijadikan acuan. Parameter y diisi dengan nama kolom yang mau dijadikan acuan. Parameter `kind` diisi dengan nilai `line`."
   ]
  },
  {
   "cell_type": "markdown",
   "metadata": {},
   "source": [
    "##### Sample Data Set\n",
    "\n",
    "Disini kita akan membentuk sebuah data frame dengan 2 kolom yaitu kolom tahun dan kolom populasi."
   ]
  },
  {
   "cell_type": "code",
   "execution_count": 3,
   "metadata": {},
   "outputs": [
    {
     "data": {
      "text/html": [
       "<div>\n",
       "<style scoped>\n",
       "    .dataframe tbody tr th:only-of-type {\n",
       "        vertical-align: middle;\n",
       "    }\n",
       "\n",
       "    .dataframe tbody tr th {\n",
       "        vertical-align: top;\n",
       "    }\n",
       "\n",
       "    .dataframe thead th {\n",
       "        text-align: right;\n",
       "    }\n",
       "</style>\n",
       "<table border=\"1\" class=\"dataframe\">\n",
       "  <thead>\n",
       "    <tr style=\"text-align: right;\">\n",
       "      <th></th>\n",
       "      <th>Tahun</th>\n",
       "      <th>Populasi</th>\n",
       "    </tr>\n",
       "  </thead>\n",
       "  <tbody>\n",
       "    <tr>\n",
       "      <th>0</th>\n",
       "      <td>1958</td>\n",
       "      <td>51652500</td>\n",
       "    </tr>\n",
       "    <tr>\n",
       "      <th>1</th>\n",
       "      <td>1963</td>\n",
       "      <td>53624900</td>\n",
       "    </tr>\n",
       "    <tr>\n",
       "      <th>2</th>\n",
       "      <td>1968</td>\n",
       "      <td>55213500</td>\n",
       "    </tr>\n",
       "    <tr>\n",
       "      <th>3</th>\n",
       "      <td>1973</td>\n",
       "      <td>56223000</td>\n",
       "    </tr>\n",
       "    <tr>\n",
       "      <th>4</th>\n",
       "      <td>1983</td>\n",
       "      <td>56178000</td>\n",
       "    </tr>\n",
       "    <tr>\n",
       "      <th>5</th>\n",
       "      <td>1988</td>\n",
       "      <td>56315000</td>\n",
       "    </tr>\n",
       "    <tr>\n",
       "      <th>6</th>\n",
       "      <td>1993</td>\n",
       "      <td>56916000</td>\n",
       "    </tr>\n",
       "    <tr>\n",
       "      <th>7</th>\n",
       "      <td>1998</td>\n",
       "      <td>57713000</td>\n",
       "    </tr>\n",
       "    <tr>\n",
       "      <th>8</th>\n",
       "      <td>1993</td>\n",
       "      <td>58474000</td>\n",
       "    </tr>\n",
       "    <tr>\n",
       "      <th>9</th>\n",
       "      <td>2003</td>\n",
       "      <td>59636000</td>\n",
       "    </tr>\n",
       "    <tr>\n",
       "      <th>10</th>\n",
       "      <td>2008</td>\n",
       "      <td>61823000</td>\n",
       "    </tr>\n",
       "    <tr>\n",
       "      <th>11</th>\n",
       "      <td>2013</td>\n",
       "      <td>64105000</td>\n",
       "    </tr>\n",
       "    <tr>\n",
       "      <th>12</th>\n",
       "      <td>2018</td>\n",
       "      <td>66436000</td>\n",
       "    </tr>\n",
       "  </tbody>\n",
       "</table>\n",
       "</div>"
      ],
      "text/plain": [
       "   Tahun  Populasi\n",
       "0   1958  51652500\n",
       "1   1963  53624900\n",
       "2   1968  55213500\n",
       "3   1973  56223000\n",
       "4   1983  56178000\n",
       "5   1988  56315000\n",
       "6   1993  56916000\n",
       "7   1998  57713000\n",
       "8   1993  58474000\n",
       "9   2003  59636000\n",
       "10  2008  61823000\n",
       "11  2013  64105000\n",
       "12  2018  66436000"
      ]
     },
     "execution_count": 3,
     "metadata": {},
     "output_type": "execute_result"
    }
   ],
   "source": [
    "data = {\n",
    "    'Tahun': [\n",
    "        '1958', '1963', '1968', '1973', '1983', '1988', '1993', '1998', '1993',\n",
    "        '2003', '2008', '2013', '2018'\n",
    "    ],\n",
    "    'Populasi': [\n",
    "        51652500, 53624900, 55213500, 56223000, 56178000, 56315000, 56916000,\n",
    "        57713000, 58474000, 59636000, 61823000, 64105000, 66436000\n",
    "    ]\n",
    "}\n",
    "\n",
    "df = pd.DataFrame(data)\n",
    "df"
   ]
  },
  {
   "cell_type": "markdown",
   "metadata": {},
   "source": [
    "##### Visualisasi Data\n",
    "\n",
    "Disini kita akan melakukan visualisasi dari data frame yang sudah kita bentuk. Jenis visualisasi datanya adalah line plot."
   ]
  },
  {
   "cell_type": "code",
   "execution_count": 4,
   "metadata": {},
   "outputs": [
    {
     "data": {
      "image/png": "[encoded data removed]",
      "text/plain": [
       "<Figure size 432x288 with 1 Axes>"
      ]
     },
     "metadata": {
      "needs_background": "light"
     },
     "output_type": "display_data"
    }
   ],
   "source": [
    "# melakukan plotting\n",
    "df.plot(x='Tahun', y='Populasi', kind='line')\n",
    "\n",
    "# mengatur label\n",
    "plt.title('Data Populasi Penduduk')\n",
    "plt.ylabel('Populasi')\n",
    "plt.xlabel('Tahun')\n",
    "plt.show()"
   ]
  },
  {
   "cell_type": "markdown",
   "metadata": {},
   "source": [
    "#### Bar Plot\n",
    "\n",
    "Kita bisa melakukan plotting data dengan jenis Bar Plot dengan memanfaatkan method `df.plot()` dan menyertakan beberapa parameter. Parameter x diisi dengan nama kolom yang mau dijadikan acuan. Parameter y diisi dengan nama kolom yang mau dijadikan acuan. Parameter `kind` diisi dengan nilai `bar`."
   ]
  },
  {
   "cell_type": "markdown",
   "metadata": {},
   "source": [
    "##### Sample Data Set\n",
    "\n",
    "Disini kita akan membentuk sebuah data frame dengan 2 kolom yaitu kolom negara dan kolom gdp."
   ]
  },
  {
   "cell_type": "code",
   "execution_count": 5,
   "metadata": {},
   "outputs": [
    {
     "data": {
      "text/html": [
       "<div>\n",
       "<style scoped>\n",
       "    .dataframe tbody tr th:only-of-type {\n",
       "        vertical-align: middle;\n",
       "    }\n",
       "\n",
       "    .dataframe tbody tr th {\n",
       "        vertical-align: top;\n",
       "    }\n",
       "\n",
       "    .dataframe thead th {\n",
       "        text-align: right;\n",
       "    }\n",
       "</style>\n",
       "<table border=\"1\" class=\"dataframe\">\n",
       "  <thead>\n",
       "    <tr style=\"text-align: right;\">\n",
       "      <th></th>\n",
       "      <th>Negara</th>\n",
       "      <th>GDP</th>\n",
       "    </tr>\n",
       "  </thead>\n",
       "  <tbody>\n",
       "    <tr>\n",
       "      <th>0</th>\n",
       "      <td>United States</td>\n",
       "      <td>62606</td>\n",
       "    </tr>\n",
       "    <tr>\n",
       "      <th>1</th>\n",
       "      <td>Singapore</td>\n",
       "      <td>100345</td>\n",
       "    </tr>\n",
       "    <tr>\n",
       "      <th>2</th>\n",
       "      <td>Germany</td>\n",
       "      <td>52559</td>\n",
       "    </tr>\n",
       "    <tr>\n",
       "      <th>3</th>\n",
       "      <td>United Kingdom</td>\n",
       "      <td>45705</td>\n",
       "    </tr>\n",
       "    <tr>\n",
       "      <th>4</th>\n",
       "      <td>Japan</td>\n",
       "      <td>44227</td>\n",
       "    </tr>\n",
       "  </tbody>\n",
       "</table>\n",
       "</div>"
      ],
      "text/plain": [
       "           Negara     GDP\n",
       "0   United States   62606\n",
       "1       Singapore  100345\n",
       "2         Germany   52559\n",
       "3  United Kingdom   45705\n",
       "4           Japan   44227"
      ]
     },
     "execution_count": 5,
     "metadata": {},
     "output_type": "execute_result"
    }
   ],
   "source": [
    "data = {\n",
    "    'Negara': ['United States', 'Singapore', 'Germany', 'United Kingdom', 'Japan'],\n",
    "    'GDP': [62606, 100345, 52559, 45705, 44227]\n",
    "}\n",
    "\n",
    "df = pd.DataFrame(data,columns=['Negara', 'GDP'])\n",
    "df"
   ]
  },
  {
   "cell_type": "markdown",
   "metadata": {},
   "source": [
    "##### Visualisasi Data\n",
    "\n",
    "Disini kita akan melakukan visualisasi dari data frame yang sudah kita bentuk. Jenis visualisasi datanya adalah bar plot."
   ]
  },
  {
   "cell_type": "code",
   "execution_count": 11,
   "metadata": {},
   "outputs": [
    {
     "data": {
      "image/png": "[encoded data removed]",
      "text/plain": [
       "<Figure size 432x288 with 1 Axes>"
      ]
     },
     "metadata": {
      "needs_background": "light"
     },
     "output_type": "display_data"
    }
   ],
   "source": [
    "# membuat plotting vertikal bar plot\n",
    "df.plot(x='Negara', y='GDP', kind='bar')\n",
    "\n",
    "# mengatur label\n",
    "plt.title('GDP Per Kapita')\n",
    "plt.ylabel('GDP Dalam USD')\n",
    "plt.xlabel('Negara')\n",
    "plt.show()"
   ]
  },
  {
   "cell_type": "code",
   "execution_count": 12,
   "metadata": {},
   "outputs": [
    {
     "data": {
      "image/png": "[encoded data removed]",
      "text/plain": [
       "<Figure size 432x288 with 1 Axes>"
      ]
     },
     "metadata": {
      "needs_background": "light"
     },
     "output_type": "display_data"
    }
   ],
   "source": [
    "# membuat plotting horizontal bar plot dengan mengganti nilai parameter kind menjadi barh\n",
    "df.plot(x='Negara', y='GDP', kind='barh')\n",
    "\n",
    "# mengatur label\n",
    "plt.title('GDP Per Kapita')\n",
    "plt.xlabel('GDP Dalam USD')\n",
    "plt.ylabel('Negara')\n",
    "plt.show()"
   ]
  },
  {
   "cell_type": "code",
   "execution_count": 13,
   "metadata": {},
   "outputs": [
    {
     "data": {
      "image/png": "[encoded data removed]",
      "text/plain": [
       "<Figure size 432x288 with 1 Axes>"
      ]
     },
     "metadata": {
      "needs_background": "light"
     },
     "output_type": "display_data"
    }
   ],
   "source": [
    "# membuat plotting horizontal bar plot dengan mengganti nilai parameter kind menjadi barh\n",
    "# parameter color untuk menentukan warna hasil plotting\n",
    "# parameter legend bernilai False sehingga legend tidak muncul\n",
    "df.plot(x='Negara', y='GDP', kind='barh', color='green', legend=False)\n",
    "\n",
    "# mengatur label\n",
    "plt.title('GDP Per Kapita')\n",
    "plt.xlabel('GDP Dalam USD')\n",
    "plt.ylabel('Negara')\n",
    "plt.show()"
   ]
  }
 ],
 "metadata": {
  "kernelspec": {
   "display_name": "Python 3",
   "language": "python",
   "name": "python3"
  },
  "language_info": {
   "codemirror_mode": {
    "name": "ipython",
    "version": 3
   },
   "file_extension": ".py",
   "mimetype": "text/x-python",
   "name": "python",
   "nbconvert_exporter": "python",
   "pygments_lexer": "ipython3",
   "version": "3.8.5"
  }
 },
 "nbformat": 4,
 "nbformat_minor": 4
}
