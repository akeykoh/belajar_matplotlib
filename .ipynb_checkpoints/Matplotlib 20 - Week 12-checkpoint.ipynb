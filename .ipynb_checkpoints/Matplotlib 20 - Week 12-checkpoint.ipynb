{
 "cells": [
  {
   "attachments": {
    "download%20%281%29.png": {
     "image/png": "[encoded data removed]"
    }
   },
   "cell_type": "markdown",
   "metadata": {},
   "source": [
    "![download%20%281%29.png](attachment:download%20%281%29.png)\n",
    "\n",
    "# BIC02 - Visualisasi Data\n",
    "\n",
    "Nama: Angelique Keyko Haryono\n",
    "\n",
    "NRP: 2073016"
   ]
  },
  {
   "cell_type": "markdown",
   "metadata": {},
   "source": [
    "### Week 12 - Visualisasi Data yang Tersimpan Pada Pandas Data Frame (Bagian 1)\n",
    "\n",
    "1. Cara Import Module dan Mengecek Version\n",
    "2. Sample Data Set\n",
    "3. Scatter Plot\n",
    "4. Histogram"
   ]
  },
  {
   "cell_type": "markdown",
   "metadata": {},
   "source": [
    "#### Cara Import Module dan Mengecek Version\n",
    "\n",
    "Sebelum mengimport module, kita bisa menjalankan magic comment. `%matplotlib inline` dikenal sebagai magic comment pada Jupyter Notebook dan Jupyter Lab. Kegunaannya adalah untuk memastikan setiap output dari matplotlib akan ditampilkan dalam halaman notebook yang sama. Magic comment ini harus kita eksekusi, terutama jika kita menggunakan Jupyter Notebook versi lama. Sedangkan untuk Jupyter Notebook versi lebih baru, tidak diperlukan karena secara default jika kita melakukan plotting dengan matplotlib, maka hasilnya akan secara otomatis ditampilkan pada notebook."
   ]
  },
  {
   "cell_type": "code",
   "execution_count": 3,
   "metadata": {},
   "outputs": [
    {
     "name": "stdout",
     "output_type": "stream",
     "text": [
      "3.3.2\n",
      "1.1.3\n"
     ]
    }
   ],
   "source": [
    "# Ini merupakan cara untuk mengimport module.\n",
    "import matplotlib\n",
    "import matplotlib.pyplot as plt\n",
    "import pandas as pd\n",
    "\n",
    "# Ini merupakan cara mengecek version module.\n",
    "print(matplotlib.__version__)\n",
    "print(pd.__version__)"
   ]
  },
  {
   "cell_type": "markdown",
   "metadata": {},
   "source": [
    "#### Sample Data Set\n",
    "\n",
    "Disini kita akan membentuk Pandas data framenya dari struktur data Dictionary yang terdiri dari 6 kolom yaitu kolom nama, usia, gender, provinsi, n_anak, dan n_pets."
   ]
  },
  {
   "cell_type": "code",
   "execution_count": 5,
   "metadata": {},
   "outputs": [
    {
     "data": {
      "text/html": [
       "<div>\n",
       "<style scoped>\n",
       "    .dataframe tbody tr th:only-of-type {\n",
       "        vertical-align: middle;\n",
       "    }\n",
       "\n",
       "    .dataframe tbody tr th {\n",
       "        vertical-align: top;\n",
       "    }\n",
       "\n",
       "    .dataframe thead th {\n",
       "        text-align: right;\n",
       "    }\n",
       "</style>\n",
       "<table border=\"1\" class=\"dataframe\">\n",
       "  <thead>\n",
       "    <tr style=\"text-align: right;\">\n",
       "      <th></th>\n",
       "      <th>nama</th>\n",
       "      <th>usia</th>\n",
       "      <th>gender</th>\n",
       "      <th>provinsi</th>\n",
       "      <th>n_anak</th>\n",
       "      <th>n_pets</th>\n",
       "    </tr>\n",
       "  </thead>\n",
       "  <tbody>\n",
       "    <tr>\n",
       "      <th>0</th>\n",
       "      <td>cecep</td>\n",
       "      <td>23</td>\n",
       "      <td>L</td>\n",
       "      <td>jabar</td>\n",
       "      <td>2</td>\n",
       "      <td>5</td>\n",
       "    </tr>\n",
       "    <tr>\n",
       "      <th>1</th>\n",
       "      <td>karti</td>\n",
       "      <td>78</td>\n",
       "      <td>P</td>\n",
       "      <td>jatim</td>\n",
       "      <td>0</td>\n",
       "      <td>1</td>\n",
       "    </tr>\n",
       "    <tr>\n",
       "      <th>2</th>\n",
       "      <td>bejo</td>\n",
       "      <td>22</td>\n",
       "      <td>L</td>\n",
       "      <td>jabar</td>\n",
       "      <td>0</td>\n",
       "      <td>0</td>\n",
       "    </tr>\n",
       "    <tr>\n",
       "      <th>3</th>\n",
       "      <td>tejo</td>\n",
       "      <td>19</td>\n",
       "      <td>L</td>\n",
       "      <td>jatim</td>\n",
       "      <td>3</td>\n",
       "      <td>5</td>\n",
       "    </tr>\n",
       "    <tr>\n",
       "      <th>4</th>\n",
       "      <td>asep</td>\n",
       "      <td>45</td>\n",
       "      <td>L</td>\n",
       "      <td>jabar</td>\n",
       "      <td>2</td>\n",
       "      <td>2</td>\n",
       "    </tr>\n",
       "    <tr>\n",
       "      <th>5</th>\n",
       "      <td>wati</td>\n",
       "      <td>33</td>\n",
       "      <td>P</td>\n",
       "      <td>jateng</td>\n",
       "      <td>1</td>\n",
       "      <td>2</td>\n",
       "    </tr>\n",
       "    <tr>\n",
       "      <th>6</th>\n",
       "      <td>amat</td>\n",
       "      <td>20</td>\n",
       "      <td>L</td>\n",
       "      <td>jateng</td>\n",
       "      <td>4</td>\n",
       "      <td>3</td>\n",
       "    </tr>\n",
       "  </tbody>\n",
       "</table>\n",
       "</div>"
      ],
      "text/plain": [
       "    nama  usia gender provinsi  n_anak  n_pets\n",
       "0  cecep    23      L    jabar       2       5\n",
       "1  karti    78      P    jatim       0       1\n",
       "2   bejo    22      L    jabar       0       0\n",
       "3   tejo    19      L    jatim       3       5\n",
       "4   asep    45      L    jabar       2       2\n",
       "5   wati    33      P   jateng       1       2\n",
       "6   amat    20      L   jateng       4       3"
      ]
     },
     "execution_count": 5,
     "metadata": {},
     "output_type": "execute_result"
    }
   ],
   "source": [
    "df = pd.DataFrame({\n",
    "    'nama':['cecep', 'karti', 'bejo', 'tejo', 'asep', 'wati', 'amat'],\n",
    "    'usia':[23, 78, 22, 19, 45, 33, 20],\n",
    "    'gender':['L', 'P', 'L', 'L', 'L', 'P', 'L'],\n",
    "    'provinsi':['jabar', 'jatim', 'jabar', 'jatim', 'jabar', 'jateng', 'jateng'],\n",
    "    'n_anak':[2, 0, 0, 3, 2, 1, 4],\n",
    "    'n_pets':[5, 1, 0, 5, 2, 2, 3]\n",
    "})\n",
    "\n",
    "df"
   ]
  },
  {
   "cell_type": "markdown",
   "metadata": {},
   "source": [
    "#### Scatter Plot\n",
    "\n",
    "Kita bisa melakukan plotting data dengan memanfaatkan method `df.plot()` dan menyertakan beberapa parameter. Parameter `kind` akan menentukan jenis plotting. Parameter `x` diisi dengan nama kolom yang mau dijadikan acuan. Parameter `y` diisi dengan nama kolom yang mau dijadikan acuan. Parameter color untuk menentukan warna dari marker."
   ]
  },
  {
   "cell_type": "code",
   "execution_count": 11,
   "metadata": {},
   "outputs": [
    {
     "data": {
      "image/png": "[encoded data removed]",
      "text/plain": [
       "<Figure size 432x288 with 1 Axes>"
      ]
     },
     "metadata": {
      "needs_background": "light"
     },
     "output_type": "display_data"
    }
   ],
   "source": [
    "# melakukan plotting\n",
    "df.plot(kind='scatter', x='n_anak', y='n_pets', color = 'red')\n",
    "\n",
    "# mengatur label\n",
    "plt.title('Scatter Plot')\n",
    "plt.xlabel('Jumlah Anak')\n",
    "plt.ylabel('Jumlah Pets')\n",
    "plt.show()"
   ]
  },
  {
   "cell_type": "markdown",
   "metadata": {},
   "source": [
    "#### Histogram\n",
    "\n",
    "Dibawah ini kita akan membuat plotting histogram dari kolom usia dengan method `df[['usia']].plot` dan menyertakan beberapa parameter. Parameter kind akan menentukan jenis plotting. Do contoh ini, parameter bins diisi dengan suatu List yang berisi beberapa bilangan. "
   ]
  },
  {
   "cell_type": "code",
   "execution_count": 10,
   "metadata": {},
   "outputs": [
    {
     "data": {
      "image/png": "[encoded data removed]",
      "text/plain": [
       "<Figure size 432x288 with 1 Axes>"
      ]
     },
     "metadata": {
      "needs_background": "light"
     },
     "output_type": "display_data"
    }
   ],
   "source": [
    "# melakukan plotting\n",
    "df[['usia']].plot(kind='hist', bins=[0, 20, 40, 60, 80, 100])\n",
    "\n",
    "# mengatur label\n",
    "plt.title('Histogram')\n",
    "plt.xlabel('Usia')\n",
    "plt.ylabel('Jumlah')\n",
    "plt.show()"
   ]
  }
 ],
 "metadata": {
  "kernelspec": {
   "display_name": "Python 3",
   "language": "python",
   "name": "python3"
  },
  "language_info": {
   "codemirror_mode": {
    "name": "ipython",
    "version": 3
   },
   "file_extension": ".py",
   "mimetype": "text/x-python",
   "name": "python",
   "nbconvert_exporter": "python",
   "pygments_lexer": "ipython3",
   "version": "3.8.5"
  }
 },
 "nbformat": 4,
 "nbformat_minor": 4
}
