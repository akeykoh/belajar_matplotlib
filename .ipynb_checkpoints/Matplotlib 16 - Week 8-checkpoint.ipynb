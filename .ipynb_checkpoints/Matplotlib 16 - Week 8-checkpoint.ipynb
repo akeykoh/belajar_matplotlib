{
 "cells": [
  {
   "attachments": {
    "download%20%281%29.png": {
     "image/png": "[encoded data removed]"
    }
   },
   "cell_type": "markdown",
   "metadata": {},
   "source": [
    "![download%20%281%29.png](attachment:download%20%281%29.png)\n",
    "\n",
    "# BIC02 - Visualisasi Data\n",
    "\n",
    "Nama: Angelique Keyko Haryono\n",
    "\n",
    "NRP: 2073016"
   ]
  },
  {
   "cell_type": "markdown",
   "metadata": {},
   "source": [
    "### Week 8 - Plot Lifecycle\n",
    "\n",
    "1. Cara Import Module dan Mengecek Version\n",
    "2. Sample Dataset\n",
    "3. Simple Plot\n",
    "4. Pengaturan Style \n",
    "5. Pengaturan Tick Label\n"
   ]
  },
  {
   "cell_type": "markdown",
   "metadata": {},
   "source": [
    "#### Cara Import Module dan Mengecek Version\n",
    "\n",
    "Sebelum mengimport module, kita bisa menjalankan magic comment. `%matplotlib inline` dikenal sebagai magic comment pada Jupyter Notebook dan Jupyter Lab. Kegunaannya adalah untuk memastikan setiap output dari matplotlib akan ditampilkan dalam halaman notebook yang sama. Magic comment ini harus kita eksekusi, terutama jika kita menggunakan Jupyter Notebook versi lama. Sedangkan untuk Jupyter Notebook versi lebih baru, tidak diperlukan karena secara default jika kita melakukan plotting dengan matplotlib, maka hasilnya akan secara otomatis ditampilkan pada notebook."
   ]
  },
  {
   "cell_type": "code",
   "execution_count": 1,
   "metadata": {},
   "outputs": [],
   "source": [
    "%matplotlib inline"
   ]
  },
  {
   "cell_type": "code",
   "execution_count": 2,
   "metadata": {},
   "outputs": [
    {
     "name": "stdout",
     "output_type": "stream",
     "text": [
      "3.3.2\n",
      "1.19.2\n"
     ]
    }
   ],
   "source": [
    "#Ini merupakan cara untuk mengimport module.\n",
    "import matplotlib\n",
    "import matplotlib.pyplot as plt\n",
    "import numpy as np\n",
    "\n",
    "#Ini merupakan cara mengecek version module.\n",
    "print(matplotlib.__version__)\n",
    "print(np.__version__)"
   ]
  },
  {
   "cell_type": "markdown",
   "metadata": {},
   "source": [
    "#### Sample Dataset\n",
    "\n",
    "Kita akan menyiapkan sample dataset yang terbentuk dari suatu Dictionary. "
   ]
  },
  {
   "cell_type": "code",
   "execution_count": 3,
   "metadata": {},
   "outputs": [
    {
     "data": {
      "text/plain": [
       "{'Item A': 109438,\n",
       " 'Item B': 103569,\n",
       " 'Item C': 112214,\n",
       " 'Item D': 112591,\n",
       " 'Item E': 100934,\n",
       " 'Item F': 103660,\n",
       " 'Item G': 137351,\n",
       " 'Item H': 123381,\n",
       " 'Item I': 135841,\n",
       " 'Item J': 104437}"
      ]
     },
     "execution_count": 3,
     "metadata": {},
     "output_type": "execute_result"
    }
   ],
   "source": [
    "data = {'Item A' : 109438,\n",
    "        'Item B' : 103569,\n",
    "        'Item C' : 112214,\n",
    "        'Item D' : 112591,\n",
    "        'Item E' : 100934,\n",
    "        'Item F' : 103660,\n",
    "        'Item G' : 137351,\n",
    "        'Item H' : 123381,\n",
    "        'Item I' : 135841,\n",
    "        'Item J' : 104437}\n",
    "data"
   ]
  },
  {
   "cell_type": "code",
   "execution_count": 13,
   "metadata": {},
   "outputs": [
    {
     "data": {
      "text/plain": [
       "('Item A',\n",
       " 'Item B',\n",
       " 'Item C',\n",
       " 'Item D',\n",
       " 'Item E',\n",
       " 'Item F',\n",
       " 'Item G',\n",
       " 'Item H',\n",
       " 'Item I',\n",
       " 'Item J')"
      ]
     },
     "execution_count": 13,
     "metadata": {},
     "output_type": "execute_result"
    }
   ],
   "source": [
    "# Mengekstrak keys dari suatu Dictionary.\n",
    "items = tuple(data.keys()) #keys yang dihasilkan ditampung dalam suatu tuple.\n",
    "items"
   ]
  },
  {
   "cell_type": "code",
   "execution_count": 11,
   "metadata": {},
   "outputs": [
    {
     "data": {
      "text/plain": [
       "(109438,\n",
       " 103569,\n",
       " 112214,\n",
       " 112591,\n",
       " 100934,\n",
       " 103660,\n",
       " 137351,\n",
       " 123381,\n",
       " 135841,\n",
       " 104437)"
      ]
     },
     "execution_count": 11,
     "metadata": {},
     "output_type": "execute_result"
    }
   ],
   "source": [
    "# Mengekstrak values dari suatu Dictionary.\n",
    "count = tuple(data.values()) #values yang dihasilkan ditampung dalam suatu tuple.\n",
    "count"
   ]
  },
  {
   "cell_type": "markdown",
   "metadata": {},
   "source": [
    "#### Simple Plot\n",
    "\n",
    "Disini kita melakukan plotting bar plot posisi horizontal dengan pendekatan OO Style yaitu memanggil fungsi `plt.subplots()`."
   ]
  },
  {
   "cell_type": "code",
   "execution_count": 14,
   "metadata": {},
   "outputs": [
    {
     "data": {
      "image/png": "[encoded data removed]",
      "text/plain": [
       "<Figure size 432x288 with 1 Axes>"
      ]
     },
     "metadata": {
      "needs_background": "light"
     },
     "output_type": "display_data"
    }
   ],
   "source": [
    "fig, ax = plt.subplots() #mengembalikan objek figure dan axes.\n",
    "\n",
    "#memanggil method .barh untuk menghasilkan bar plot posisi horizontal.\n",
    "ax.barh(items, count)\n",
    "\n",
    "plt.show()"
   ]
  },
  {
   "cell_type": "markdown",
   "metadata": {},
   "source": [
    "#### Pengaturan Style \n",
    "\n",
    "Kita bisa mengatur style dengan menggunakan method `plt.style.use('predefined_stylenya')`"
   ]
  },
  {
   "cell_type": "code",
   "execution_count": 15,
   "metadata": {},
   "outputs": [
    {
     "data": {
      "text/plain": [
       "['Solarize_Light2',\n",
       " '_classic_test_patch',\n",
       " 'bmh',\n",
       " 'classic',\n",
       " 'dark_background',\n",
       " 'fast',\n",
       " 'fivethirtyeight',\n",
       " 'ggplot',\n",
       " 'grayscale',\n",
       " 'seaborn',\n",
       " 'seaborn-bright',\n",
       " 'seaborn-colorblind',\n",
       " 'seaborn-dark',\n",
       " 'seaborn-dark-palette',\n",
       " 'seaborn-darkgrid',\n",
       " 'seaborn-deep',\n",
       " 'seaborn-muted',\n",
       " 'seaborn-notebook',\n",
       " 'seaborn-paper',\n",
       " 'seaborn-pastel',\n",
       " 'seaborn-poster',\n",
       " 'seaborn-talk',\n",
       " 'seaborn-ticks',\n",
       " 'seaborn-white',\n",
       " 'seaborn-whitegrid',\n",
       " 'tableau-colorblind10']"
      ]
     },
     "execution_count": 15,
     "metadata": {},
     "output_type": "execute_result"
    }
   ],
   "source": [
    "# Melihat daftar style yang disediakan matplotlib.\n",
    "plt.style.available"
   ]
  },
  {
   "cell_type": "code",
   "execution_count": 16,
   "metadata": {},
   "outputs": [
    {
     "data": {
      "image/png": "[encoded data removed]",
      "text/plain": [
       "<Figure size 432x288 with 1 Axes>"
      ]
     },
     "metadata": {
      "needs_background": "light"
     },
     "output_type": "display_data"
    }
   ],
   "source": [
    "# Menggunakan style.\n",
    "plt.style.use('bmh')\n",
    "\n",
    "fig, ax = plt.subplots()\n",
    "ax.barh(items, count)\n",
    "plt.show()"
   ]
  },
  {
   "cell_type": "markdown",
   "metadata": {},
   "source": [
    "#### Pengaturan Tick Label\n",
    "\n",
    "Untuk melakukan pengaturan tick label untuk sumbu x, langkah-langkahnya adalah:\n",
    "- Menangkap object dari tick labels dengan memanggil method ` ax.get_xticklabels()`.\n",
    "- Mengatur properties dari tick label dengan memanggil method `plt.setp()`, diikuti dengan beberapa parameter."
   ]
  },
  {
   "cell_type": "code",
   "execution_count": 18,
   "metadata": {},
   "outputs": [
    {
     "data": {
      "image/png": "[encoded data removed]",
      "text/plain": [
       "<Figure size 432x288 with 1 Axes>"
      ]
     },
     "metadata": {
      "needs_background": "light"
     },
     "output_type": "display_data"
    }
   ],
   "source": [
    "fig,ax = plt.subplots()\n",
    "ax.barh(items, count)\n",
    "\n",
    "labels = ax.get_xticklabels()\n",
    "\n",
    "# set properties\n",
    "plt.setp(labels,                       # object yang mau iatur propertiesnya.\n",
    "         rotation=45,                  # label akan diputar sebesar 45 derajat (berlawanan arah jarum jam).\n",
    "         horizontalalignment='right')  # perataannya adalah perataan kanan.\n",
    "\n",
    "plt.show()"
   ]
  }
 ],
 "metadata": {
  "kernelspec": {
   "display_name": "Python 3",
   "language": "python",
   "name": "python3"
  },
  "language_info": {
   "codemirror_mode": {
    "name": "ipython",
    "version": 3
   },
   "file_extension": ".py",
   "mimetype": "text/x-python",
   "name": "python",
   "nbconvert_exporter": "python",
   "pygments_lexer": "ipython3",
   "version": "3.8.5"
  }
 },
 "nbformat": 4,
 "nbformat_minor": 4
}
