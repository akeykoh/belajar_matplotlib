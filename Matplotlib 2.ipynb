{
 "cells": [
  {
   "cell_type": "markdown",
   "metadata": {},
   "source": []
  },
  {
   "cell_type": "markdown",
   "metadata": {},
   "source": [
    "### Week 2 - Pengenalan pyplot\n",
    "\n",
    "1. Cara Import Module dan Mengecek Version"
   ]
  },
  {
   "cell_type": "markdown",
   "metadata": {
    "slideshow": {
     "slide_type": "slide"
    }
   },
   "source": [
    "- pyploy adalah koleksi atau kumpulan fungsi yang menjadikan Matplotlib dapat bekerja menyerupai MATLAB.\n",
    "- MATLAB merupakan software yang banyak digunakan dalam keperluan scientifics.\n",
    "- Dikarenakan MATLAB memiliki lisensi yang mahal, banyak peneliti menggunakan alternatif python karena memiliki banyak modul yang mendukung keperluan scientifics. Contohnya module Matplotlib yang fokus dalam melakukan visualisasi data.\n",
    "- pyplot API secara umum less-flexible jika dibandingkan object-oriented API."
   ]
  },
  {
   "cell_type": "markdown",
   "metadata": {
    "slideshow": {
     "slide_type": "slide"
    }
   },
   "source": [
    "#### Cara Import Module dan Mengecek Version"
   ]
  },
  {
   "cell_type": "code",
   "execution_count": null,
   "metadata": {},
   "outputs": [],
   "source": [
    "#\"%matplotlib inline\" dikenal sebagai magic comment pada Jupyter Notebook dan Jupyter Lab.\n",
    "#Kegunaannya adalah untuk memastikan setiap output dari matplotlib akan ditampilkan dalam halaman notebook yang sama.\n",
    "#Magic comment ini harus kita eksekusi, terutama jika kita menggunakan Jupyter Notebook versi lama.\n",
    "#Sedangkan untuk Jupyter Notebook versi lebih baru, tidak diperlukan karena secara default jika kita melakukan plotting\n",
    "#dengan matplotlib, maka hasilnya akan secara otomatis ditampilkan pada notebook.\n",
    "%matplotlib inline"
   ]
  },
  {
   "cell_type": "code",
   "execution_count": 6,
   "metadata": {},
   "outputs": [
    {
     "name": "stdout",
     "output_type": "stream",
     "text": [
      "3.3.2\n",
      "1.19.2\n"
     ]
    }
   ],
   "source": [
    "#Ini merupakan cara untuk mengimport module.\n",
    "import matplotlib\n",
    "import matplotlib.pyplot as plt\n",
    "import numpy as np\n",
    "\n",
    "#Ini merupakan cara mengecek version module.\n",
    "print(matplotlib.__version__)\n",
    "print(np.__version__)"
   ]
  },
  {
   "cell_type": "code",
   "execution_count": null,
   "metadata": {},
   "outputs": [],
   "source": []
  }
 ],
 "metadata": {
  "celltoolbar": "Slideshow",
  "kernelspec": {
   "display_name": "Python 3",
   "language": "python",
   "name": "python3"
  },
  "language_info": {
   "codemirror_mode": {
    "name": "ipython",
    "version": 3
   },
   "file_extension": ".py",
   "mimetype": "text/x-python",
   "name": "python",
   "nbconvert_exporter": "python",
   "pygments_lexer": "ipython3",
   "version": "3.8.5"
  }
 },
 "nbformat": 4,
 "nbformat_minor": 4
}
